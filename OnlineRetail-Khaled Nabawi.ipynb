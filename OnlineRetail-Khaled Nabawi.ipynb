{
 "cells": [
  {
   "cell_type": "markdown",
   "id": "633f56e3",
   "metadata": {},
   "source": [
    "# Assignment - 4 - Clustring"
   ]
  },
  {
   "cell_type": "code",
   "execution_count": 1,
   "id": "cdd8f689",
   "metadata": {},
   "outputs": [],
   "source": [
    "# import necasseray libraries\n",
    "import pandas as pd\n",
    "import numpy as np\n",
    "import matplotlib.pyplot as plt\n",
    "import seaborn as sns\n",
    "\n",
    "from sklearn.cluster import KMeans\n",
    "from sklearn.cluster import AgglomerativeClustering\n",
    "from sklearn.preprocessing import OrdinalEncoder, LabelEncoder\n",
    "from sklearn.preprocessing import StandardScaler, MinMaxScaler\n",
    "import scipy.cluster.hierarchy as shc\n",
    "\n",
    "import warnings\n",
    "warnings.filterwarnings(\"ignore\")"
   ]
  },
  {
   "cell_type": "code",
   "execution_count": 2,
   "id": "7697542e",
   "metadata": {},
   "outputs": [
    {
     "name": "stdout",
     "output_type": "stream",
     "text": [
      "DataSet Shape: (541909, 8)\n"
     ]
    },
    {
     "data": {
      "text/html": [
       "<div>\n",
       "<style scoped>\n",
       "    .dataframe tbody tr th:only-of-type {\n",
       "        vertical-align: middle;\n",
       "    }\n",
       "\n",
       "    .dataframe tbody tr th {\n",
       "        vertical-align: top;\n",
       "    }\n",
       "\n",
       "    .dataframe thead th {\n",
       "        text-align: right;\n",
       "    }\n",
       "</style>\n",
       "<table border=\"1\" class=\"dataframe\">\n",
       "  <thead>\n",
       "    <tr style=\"text-align: right;\">\n",
       "      <th></th>\n",
       "      <th>InvoiceNo</th>\n",
       "      <th>StockCode</th>\n",
       "      <th>Description</th>\n",
       "      <th>Quantity</th>\n",
       "      <th>InvoiceDate</th>\n",
       "      <th>UnitPrice</th>\n",
       "      <th>CustomerID</th>\n",
       "      <th>Country</th>\n",
       "    </tr>\n",
       "  </thead>\n",
       "  <tbody>\n",
       "    <tr>\n",
       "      <th>0</th>\n",
       "      <td>536365</td>\n",
       "      <td>85123A</td>\n",
       "      <td>WHITE HANGING HEART T-LIGHT HOLDER</td>\n",
       "      <td>6</td>\n",
       "      <td>2010-12-01 08:26:00</td>\n",
       "      <td>2.55</td>\n",
       "      <td>17850.0</td>\n",
       "      <td>United Kingdom</td>\n",
       "    </tr>\n",
       "    <tr>\n",
       "      <th>1</th>\n",
       "      <td>536365</td>\n",
       "      <td>71053</td>\n",
       "      <td>WHITE METAL LANTERN</td>\n",
       "      <td>6</td>\n",
       "      <td>2010-12-01 08:26:00</td>\n",
       "      <td>3.39</td>\n",
       "      <td>17850.0</td>\n",
       "      <td>United Kingdom</td>\n",
       "    </tr>\n",
       "    <tr>\n",
       "      <th>2</th>\n",
       "      <td>536365</td>\n",
       "      <td>84406B</td>\n",
       "      <td>CREAM CUPID HEARTS COAT HANGER</td>\n",
       "      <td>8</td>\n",
       "      <td>2010-12-01 08:26:00</td>\n",
       "      <td>2.75</td>\n",
       "      <td>17850.0</td>\n",
       "      <td>United Kingdom</td>\n",
       "    </tr>\n",
       "    <tr>\n",
       "      <th>3</th>\n",
       "      <td>536365</td>\n",
       "      <td>84029G</td>\n",
       "      <td>KNITTED UNION FLAG HOT WATER BOTTLE</td>\n",
       "      <td>6</td>\n",
       "      <td>2010-12-01 08:26:00</td>\n",
       "      <td>3.39</td>\n",
       "      <td>17850.0</td>\n",
       "      <td>United Kingdom</td>\n",
       "    </tr>\n",
       "    <tr>\n",
       "      <th>4</th>\n",
       "      <td>536365</td>\n",
       "      <td>84029E</td>\n",
       "      <td>RED WOOLLY HOTTIE WHITE HEART.</td>\n",
       "      <td>6</td>\n",
       "      <td>2010-12-01 08:26:00</td>\n",
       "      <td>3.39</td>\n",
       "      <td>17850.0</td>\n",
       "      <td>United Kingdom</td>\n",
       "    </tr>\n",
       "  </tbody>\n",
       "</table>\n",
       "</div>"
      ],
      "text/plain": [
       "  InvoiceNo StockCode                          Description  Quantity  \\\n",
       "0    536365    85123A   WHITE HANGING HEART T-LIGHT HOLDER         6   \n",
       "1    536365     71053                  WHITE METAL LANTERN         6   \n",
       "2    536365    84406B       CREAM CUPID HEARTS COAT HANGER         8   \n",
       "3    536365    84029G  KNITTED UNION FLAG HOT WATER BOTTLE         6   \n",
       "4    536365    84029E       RED WOOLLY HOTTIE WHITE HEART.         6   \n",
       "\n",
       "          InvoiceDate  UnitPrice  CustomerID         Country  \n",
       "0 2010-12-01 08:26:00       2.55     17850.0  United Kingdom  \n",
       "1 2010-12-01 08:26:00       3.39     17850.0  United Kingdom  \n",
       "2 2010-12-01 08:26:00       2.75     17850.0  United Kingdom  \n",
       "3 2010-12-01 08:26:00       3.39     17850.0  United Kingdom  \n",
       "4 2010-12-01 08:26:00       3.39     17850.0  United Kingdom  "
      ]
     },
     "execution_count": 2,
     "metadata": {},
     "output_type": "execute_result"
    }
   ],
   "source": [
    "# Reading the data From the Excel file using read_excel from pandas library\n",
    "data = pd.read_excel(r\"C:\\Users\\khale\\Documents\\Sprints\\Dataset_(1)\\Online Retail.xlsx\")\n",
    "\n",
    "# printing the shape of the dataset\n",
    "print(f\"DataSet Shape: {data.shape}\")\n",
    "\n",
    "# Showing the first five rows of the dataset\n",
    "data.head()"
   ]
  },
  {
   "cell_type": "code",
   "execution_count": 3,
   "id": "19cafe31",
   "metadata": {},
   "outputs": [],
   "source": [
    "# Taking a copy of the row data to work on it.\n",
    "df = data.copy()"
   ]
  },
  {
   "cell_type": "markdown",
   "id": "8b519753",
   "metadata": {},
   "source": [
    "- We Can extract new column from the 'InvoiceDate' column."
   ]
  },
  {
   "cell_type": "code",
   "execution_count": 4,
   "id": "4a51722a",
   "metadata": {},
   "outputs": [
    {
     "data": {
      "text/html": [
       "<div>\n",
       "<style scoped>\n",
       "    .dataframe tbody tr th:only-of-type {\n",
       "        vertical-align: middle;\n",
       "    }\n",
       "\n",
       "    .dataframe tbody tr th {\n",
       "        vertical-align: top;\n",
       "    }\n",
       "\n",
       "    .dataframe thead th {\n",
       "        text-align: right;\n",
       "    }\n",
       "</style>\n",
       "<table border=\"1\" class=\"dataframe\">\n",
       "  <thead>\n",
       "    <tr style=\"text-align: right;\">\n",
       "      <th></th>\n",
       "      <th>InvoiceNo</th>\n",
       "      <th>StockCode</th>\n",
       "      <th>Description</th>\n",
       "      <th>Quantity</th>\n",
       "      <th>InvoiceDate</th>\n",
       "      <th>UnitPrice</th>\n",
       "      <th>CustomerID</th>\n",
       "      <th>Country</th>\n",
       "      <th>InvoiceYear</th>\n",
       "      <th>InvoiceDay</th>\n",
       "      <th>InvoiceMonth</th>\n",
       "      <th>InvoiceQuarter</th>\n",
       "    </tr>\n",
       "  </thead>\n",
       "  <tbody>\n",
       "    <tr>\n",
       "      <th>0</th>\n",
       "      <td>536365</td>\n",
       "      <td>85123A</td>\n",
       "      <td>WHITE HANGING HEART T-LIGHT HOLDER</td>\n",
       "      <td>6</td>\n",
       "      <td>2010-12-01 08:26:00</td>\n",
       "      <td>2.55</td>\n",
       "      <td>17850.0</td>\n",
       "      <td>United Kingdom</td>\n",
       "      <td>2010</td>\n",
       "      <td>Wednesday</td>\n",
       "      <td>12</td>\n",
       "      <td>4</td>\n",
       "    </tr>\n",
       "    <tr>\n",
       "      <th>1</th>\n",
       "      <td>536365</td>\n",
       "      <td>71053</td>\n",
       "      <td>WHITE METAL LANTERN</td>\n",
       "      <td>6</td>\n",
       "      <td>2010-12-01 08:26:00</td>\n",
       "      <td>3.39</td>\n",
       "      <td>17850.0</td>\n",
       "      <td>United Kingdom</td>\n",
       "      <td>2010</td>\n",
       "      <td>Wednesday</td>\n",
       "      <td>12</td>\n",
       "      <td>4</td>\n",
       "    </tr>\n",
       "    <tr>\n",
       "      <th>2</th>\n",
       "      <td>536365</td>\n",
       "      <td>84406B</td>\n",
       "      <td>CREAM CUPID HEARTS COAT HANGER</td>\n",
       "      <td>8</td>\n",
       "      <td>2010-12-01 08:26:00</td>\n",
       "      <td>2.75</td>\n",
       "      <td>17850.0</td>\n",
       "      <td>United Kingdom</td>\n",
       "      <td>2010</td>\n",
       "      <td>Wednesday</td>\n",
       "      <td>12</td>\n",
       "      <td>4</td>\n",
       "    </tr>\n",
       "    <tr>\n",
       "      <th>3</th>\n",
       "      <td>536365</td>\n",
       "      <td>84029G</td>\n",
       "      <td>KNITTED UNION FLAG HOT WATER BOTTLE</td>\n",
       "      <td>6</td>\n",
       "      <td>2010-12-01 08:26:00</td>\n",
       "      <td>3.39</td>\n",
       "      <td>17850.0</td>\n",
       "      <td>United Kingdom</td>\n",
       "      <td>2010</td>\n",
       "      <td>Wednesday</td>\n",
       "      <td>12</td>\n",
       "      <td>4</td>\n",
       "    </tr>\n",
       "    <tr>\n",
       "      <th>4</th>\n",
       "      <td>536365</td>\n",
       "      <td>84029E</td>\n",
       "      <td>RED WOOLLY HOTTIE WHITE HEART.</td>\n",
       "      <td>6</td>\n",
       "      <td>2010-12-01 08:26:00</td>\n",
       "      <td>3.39</td>\n",
       "      <td>17850.0</td>\n",
       "      <td>United Kingdom</td>\n",
       "      <td>2010</td>\n",
       "      <td>Wednesday</td>\n",
       "      <td>12</td>\n",
       "      <td>4</td>\n",
       "    </tr>\n",
       "  </tbody>\n",
       "</table>\n",
       "</div>"
      ],
      "text/plain": [
       "  InvoiceNo StockCode                          Description  Quantity  \\\n",
       "0    536365    85123A   WHITE HANGING HEART T-LIGHT HOLDER         6   \n",
       "1    536365     71053                  WHITE METAL LANTERN         6   \n",
       "2    536365    84406B       CREAM CUPID HEARTS COAT HANGER         8   \n",
       "3    536365    84029G  KNITTED UNION FLAG HOT WATER BOTTLE         6   \n",
       "4    536365    84029E       RED WOOLLY HOTTIE WHITE HEART.         6   \n",
       "\n",
       "          InvoiceDate  UnitPrice  CustomerID         Country  InvoiceYear  \\\n",
       "0 2010-12-01 08:26:00       2.55     17850.0  United Kingdom         2010   \n",
       "1 2010-12-01 08:26:00       3.39     17850.0  United Kingdom         2010   \n",
       "2 2010-12-01 08:26:00       2.75     17850.0  United Kingdom         2010   \n",
       "3 2010-12-01 08:26:00       3.39     17850.0  United Kingdom         2010   \n",
       "4 2010-12-01 08:26:00       3.39     17850.0  United Kingdom         2010   \n",
       "\n",
       "  InvoiceDay  InvoiceMonth  InvoiceQuarter  \n",
       "0  Wednesday            12               4  \n",
       "1  Wednesday            12               4  \n",
       "2  Wednesday            12               4  \n",
       "3  Wednesday            12               4  \n",
       "4  Wednesday            12               4  "
      ]
     },
     "execution_count": 4,
     "metadata": {},
     "output_type": "execute_result"
    }
   ],
   "source": [
    "# Getting the year from the date with year attribute from 'datetime' module\n",
    "df['InvoiceYear'] = df['InvoiceDate'].dt.year\n",
    "# Getting the day name from the date with day_name attribute from 'datetime' module\n",
    "df['InvoiceDay'] = df['InvoiceDate'].dt.day_name()\n",
    "# Getting the month from the date with month attribute from 'datetime' module\n",
    "df['InvoiceMonth'] = df['InvoiceDate'].dt.month\n",
    "# Getting the year quarter from the date with quarter attribute from 'datetime' module\n",
    "df['InvoiceQuarter'] = df['InvoiceDate'].dt.quarter\n",
    "# Showing the first five rows after the new columns\n",
    "df.head()"
   ]
  },
  {
   "cell_type": "code",
   "execution_count": 5,
   "id": "3ae84f12",
   "metadata": {
    "scrolled": true
   },
   "outputs": [
    {
     "name": "stdout",
     "output_type": "stream",
     "text": [
      "<class 'pandas.core.frame.DataFrame'>\n",
      "RangeIndex: 541909 entries, 0 to 541908\n",
      "Data columns (total 12 columns):\n",
      " #   Column          Non-Null Count   Dtype         \n",
      "---  ------          --------------   -----         \n",
      " 0   InvoiceNo       541909 non-null  object        \n",
      " 1   StockCode       541909 non-null  object        \n",
      " 2   Description     540455 non-null  object        \n",
      " 3   Quantity        541909 non-null  int64         \n",
      " 4   InvoiceDate     541909 non-null  datetime64[ns]\n",
      " 5   UnitPrice       541909 non-null  float64       \n",
      " 6   CustomerID      406829 non-null  float64       \n",
      " 7   Country         541909 non-null  object        \n",
      " 8   InvoiceYear     541909 non-null  int64         \n",
      " 9   InvoiceDay      541909 non-null  object        \n",
      " 10  InvoiceMonth    541909 non-null  int64         \n",
      " 11  InvoiceQuarter  541909 non-null  int64         \n",
      "dtypes: datetime64[ns](1), float64(2), int64(4), object(5)\n",
      "memory usage: 49.6+ MB\n"
     ]
    }
   ],
   "source": [
    "# Sowing the main information about the data \n",
    "df.info()"
   ]
  },
  {
   "cell_type": "markdown",
   "id": "9b14b75d",
   "metadata": {},
   "source": [
    "- We can see that our data have some missing data that we need to deal with.\n",
    "- The column's data types is reasonable.\n",
    "- We have 5 Strng columns (Object), 4 integer columns, 3 float column and one datetime column."
   ]
  },
  {
   "cell_type": "code",
   "execution_count": 6,
   "id": "638797b9",
   "metadata": {},
   "outputs": [
    {
     "data": {
      "text/plain": [
       "InvoiceNo              0\n",
       "StockCode              0\n",
       "Description         1454\n",
       "Quantity               0\n",
       "InvoiceDate            0\n",
       "UnitPrice              0\n",
       "CustomerID        135080\n",
       "Country                0\n",
       "InvoiceYear            0\n",
       "InvoiceDay             0\n",
       "InvoiceMonth           0\n",
       "InvoiceQuarter         0\n",
       "dtype: int64"
      ]
     },
     "execution_count": 6,
     "metadata": {},
     "output_type": "execute_result"
    }
   ],
   "source": [
    "# Calculating the number of missing data at evey column.\n",
    "df.isnull().sum()"
   ]
  },
  {
   "cell_type": "markdown",
   "id": "8f0713b7",
   "metadata": {},
   "source": [
    "- We will fill the Misssing Data With 'No Desc' for 'Description' column.\n",
    "- and a random number in the same range of the 'CustomerID' values for 'CustomerID' column using the 'np.random' module.\n",
    "- np.random.randint => generates a random integet between the given values."
   ]
  },
  {
   "cell_type": "code",
   "execution_count": 7,
   "id": "d4c4b91c",
   "metadata": {},
   "outputs": [],
   "source": [
    "df['Description'].fillna(\"No Desc\", inplace = True)\n",
    "df['CustomerID'].fillna(np.random.randint(12000, 18001, size = 1)[0], inplace = True)"
   ]
  },
  {
   "cell_type": "code",
   "execution_count": 8,
   "id": "e02e731d",
   "metadata": {},
   "outputs": [
    {
     "data": {
      "text/plain": [
       "InvoiceNo         0\n",
       "StockCode         0\n",
       "Description       0\n",
       "Quantity          0\n",
       "InvoiceDate       0\n",
       "UnitPrice         0\n",
       "CustomerID        0\n",
       "Country           0\n",
       "InvoiceYear       0\n",
       "InvoiceDay        0\n",
       "InvoiceMonth      0\n",
       "InvoiceQuarter    0\n",
       "dtype: int64"
      ]
     },
     "execution_count": 8,
     "metadata": {},
     "output_type": "execute_result"
    }
   ],
   "source": [
    "# Calculating the number of missing data at evey column after filling it.\n",
    "df.isnull().sum()"
   ]
  },
  {
   "cell_type": "code",
   "execution_count": 9,
   "id": "a855b041",
   "metadata": {},
   "outputs": [
    {
     "name": "stdout",
     "output_type": "stream",
     "text": [
      "Number Of Duplicated Values: 5268\n"
     ]
    }
   ],
   "source": [
    "# Calculating the number of duplicated rows.\n",
    "print(f\"Number Of Duplicated Values: {df.duplicated().sum()}\")"
   ]
  },
  {
   "cell_type": "markdown",
   "id": "7e929664",
   "metadata": {},
   "source": [
    "- We will have to remove this duplicated rows."
   ]
  },
  {
   "cell_type": "code",
   "execution_count": 10,
   "id": "a6c0a6c5",
   "metadata": {},
   "outputs": [
    {
     "name": "stdout",
     "output_type": "stream",
     "text": [
      "Number Of Duplicated Values After Dropping: 0\n"
     ]
    }
   ],
   "source": [
    "df.drop_duplicates(inplace = True)\n",
    "print(f\"Number Of Duplicated Values After Dropping: {df.duplicated().sum()}\")"
   ]
  },
  {
   "cell_type": "code",
   "execution_count": 11,
   "id": "220b9ac7",
   "metadata": {},
   "outputs": [
    {
     "data": {
      "text/html": [
       "<div>\n",
       "<style scoped>\n",
       "    .dataframe tbody tr th:only-of-type {\n",
       "        vertical-align: middle;\n",
       "    }\n",
       "\n",
       "    .dataframe tbody tr th {\n",
       "        vertical-align: top;\n",
       "    }\n",
       "\n",
       "    .dataframe thead th {\n",
       "        text-align: right;\n",
       "    }\n",
       "</style>\n",
       "<table border=\"1\" class=\"dataframe\">\n",
       "  <thead>\n",
       "    <tr style=\"text-align: right;\">\n",
       "      <th></th>\n",
       "      <th>Quantity</th>\n",
       "      <th>UnitPrice</th>\n",
       "      <th>CustomerID</th>\n",
       "      <th>InvoiceYear</th>\n",
       "      <th>InvoiceMonth</th>\n",
       "      <th>InvoiceQuarter</th>\n",
       "    </tr>\n",
       "  </thead>\n",
       "  <tbody>\n",
       "    <tr>\n",
       "      <th>count</th>\n",
       "      <td>536641.000000</td>\n",
       "      <td>536641.000000</td>\n",
       "      <td>536641.000000</td>\n",
       "      <td>536641.000000</td>\n",
       "      <td>536641.000000</td>\n",
       "      <td>536641.000000</td>\n",
       "    </tr>\n",
       "    <tr>\n",
       "      <th>mean</th>\n",
       "      <td>9.620029</td>\n",
       "      <td>4.632656</td>\n",
       "      <td>15177.195602</td>\n",
       "      <td>2010.921771</td>\n",
       "      <td>7.544820</td>\n",
       "      <td>2.831938</td>\n",
       "    </tr>\n",
       "    <tr>\n",
       "      <th>std</th>\n",
       "      <td>219.130156</td>\n",
       "      <td>97.233118</td>\n",
       "      <td>1493.555220</td>\n",
       "      <td>0.268532</td>\n",
       "      <td>3.508696</td>\n",
       "      <td>1.136995</td>\n",
       "    </tr>\n",
       "    <tr>\n",
       "      <th>min</th>\n",
       "      <td>-80995.000000</td>\n",
       "      <td>-11062.060000</td>\n",
       "      <td>12346.000000</td>\n",
       "      <td>2010.000000</td>\n",
       "      <td>1.000000</td>\n",
       "      <td>1.000000</td>\n",
       "    </tr>\n",
       "    <tr>\n",
       "      <th>25%</th>\n",
       "      <td>1.000000</td>\n",
       "      <td>1.250000</td>\n",
       "      <td>14367.000000</td>\n",
       "      <td>2011.000000</td>\n",
       "      <td>5.000000</td>\n",
       "      <td>2.000000</td>\n",
       "    </tr>\n",
       "    <tr>\n",
       "      <th>50%</th>\n",
       "      <td>3.000000</td>\n",
       "      <td>2.080000</td>\n",
       "      <td>14868.000000</td>\n",
       "      <td>2011.000000</td>\n",
       "      <td>8.000000</td>\n",
       "      <td>3.000000</td>\n",
       "    </tr>\n",
       "    <tr>\n",
       "      <th>75%</th>\n",
       "      <td>10.000000</td>\n",
       "      <td>4.130000</td>\n",
       "      <td>16241.000000</td>\n",
       "      <td>2011.000000</td>\n",
       "      <td>11.000000</td>\n",
       "      <td>4.000000</td>\n",
       "    </tr>\n",
       "    <tr>\n",
       "      <th>max</th>\n",
       "      <td>80995.000000</td>\n",
       "      <td>38970.000000</td>\n",
       "      <td>18287.000000</td>\n",
       "      <td>2011.000000</td>\n",
       "      <td>12.000000</td>\n",
       "      <td>4.000000</td>\n",
       "    </tr>\n",
       "  </tbody>\n",
       "</table>\n",
       "</div>"
      ],
      "text/plain": [
       "            Quantity      UnitPrice     CustomerID    InvoiceYear  \\\n",
       "count  536641.000000  536641.000000  536641.000000  536641.000000   \n",
       "mean        9.620029       4.632656   15177.195602    2010.921771   \n",
       "std       219.130156      97.233118    1493.555220       0.268532   \n",
       "min    -80995.000000  -11062.060000   12346.000000    2010.000000   \n",
       "25%         1.000000       1.250000   14367.000000    2011.000000   \n",
       "50%         3.000000       2.080000   14868.000000    2011.000000   \n",
       "75%        10.000000       4.130000   16241.000000    2011.000000   \n",
       "max     80995.000000   38970.000000   18287.000000    2011.000000   \n",
       "\n",
       "        InvoiceMonth  InvoiceQuarter  \n",
       "count  536641.000000   536641.000000  \n",
       "mean        7.544820        2.831938  \n",
       "std         3.508696        1.136995  \n",
       "min         1.000000        1.000000  \n",
       "25%         5.000000        2.000000  \n",
       "50%         8.000000        3.000000  \n",
       "75%        11.000000        4.000000  \n",
       "max        12.000000        4.000000  "
      ]
     },
     "execution_count": 11,
     "metadata": {},
     "output_type": "execute_result"
    }
   ],
   "source": [
    "# describe => to clarify the main statistical charactaristics of the data.\n",
    "df.describe()"
   ]
  },
  {
   "cell_type": "markdown",
   "id": "49114a4d",
   "metadata": {},
   "source": [
    "- Our data Seem to have some outliers and bad scales."
   ]
  },
  {
   "cell_type": "code",
   "execution_count": 12,
   "id": "5795fe3b",
   "metadata": {},
   "outputs": [],
   "source": [
    "df['Quantity'] = np.abs(df['Quantity'])\n",
    "df['UnitPrice'] = np.abs(df['UnitPrice'])\n",
    "df = df[(df['UnitPrice'] >= 0.5) & (df['UnitPrice'] <= 5000)]\n",
    "df = df[df['Quantity'] <= 5000] "
   ]
  },
  {
   "cell_type": "markdown",
   "id": "ddb56455",
   "metadata": {},
   "source": [
    "- Taking the absolute value for the negative values in 'Quantity', 'UnitPrice' columns.\n",
    "- limiting the ranges of both columns to be:\n",
    "- [0.5:5000] for 'UnitPrice' column.\n",
    "- [ <= 5000] for 'Quantity' column."
   ]
  },
  {
   "cell_type": "code",
   "execution_count": 13,
   "id": "f39b2b09",
   "metadata": {},
   "outputs": [
    {
     "data": {
      "text/html": [
       "<div>\n",
       "<style scoped>\n",
       "    .dataframe tbody tr th:only-of-type {\n",
       "        vertical-align: middle;\n",
       "    }\n",
       "\n",
       "    .dataframe tbody tr th {\n",
       "        vertical-align: top;\n",
       "    }\n",
       "\n",
       "    .dataframe thead th {\n",
       "        text-align: right;\n",
       "    }\n",
       "</style>\n",
       "<table border=\"1\" class=\"dataframe\">\n",
       "  <thead>\n",
       "    <tr style=\"text-align: right;\">\n",
       "      <th></th>\n",
       "      <th>Quantity</th>\n",
       "      <th>UnitPrice</th>\n",
       "      <th>CustomerID</th>\n",
       "      <th>InvoiceYear</th>\n",
       "      <th>InvoiceMonth</th>\n",
       "      <th>InvoiceQuarter</th>\n",
       "    </tr>\n",
       "  </thead>\n",
       "  <tbody>\n",
       "    <tr>\n",
       "      <th>count</th>\n",
       "      <td>491518.000000</td>\n",
       "      <td>491518.000000</td>\n",
       "      <td>491518.000000</td>\n",
       "      <td>491518.000000</td>\n",
       "      <td>491518.000000</td>\n",
       "      <td>491518.000000</td>\n",
       "    </tr>\n",
       "    <tr>\n",
       "      <th>mean</th>\n",
       "      <td>8.831613</td>\n",
       "      <td>4.456747</td>\n",
       "      <td>15172.796117</td>\n",
       "      <td>2010.919195</td>\n",
       "      <td>7.525663</td>\n",
       "      <td>2.824222</td>\n",
       "    </tr>\n",
       "    <tr>\n",
       "      <th>std</th>\n",
       "      <td>32.193907</td>\n",
       "      <td>33.951116</td>\n",
       "      <td>1482.678895</td>\n",
       "      <td>0.272535</td>\n",
       "      <td>3.523353</td>\n",
       "      <td>1.141084</td>\n",
       "    </tr>\n",
       "    <tr>\n",
       "      <th>min</th>\n",
       "      <td>1.000000</td>\n",
       "      <td>0.500000</td>\n",
       "      <td>12347.000000</td>\n",
       "      <td>2010.000000</td>\n",
       "      <td>1.000000</td>\n",
       "      <td>1.000000</td>\n",
       "    </tr>\n",
       "    <tr>\n",
       "      <th>25%</th>\n",
       "      <td>1.000000</td>\n",
       "      <td>1.450000</td>\n",
       "      <td>14407.000000</td>\n",
       "      <td>2011.000000</td>\n",
       "      <td>5.000000</td>\n",
       "      <td>2.000000</td>\n",
       "    </tr>\n",
       "    <tr>\n",
       "      <th>50%</th>\n",
       "      <td>3.000000</td>\n",
       "      <td>2.460000</td>\n",
       "      <td>14868.000000</td>\n",
       "      <td>2011.000000</td>\n",
       "      <td>8.000000</td>\n",
       "      <td>3.000000</td>\n",
       "    </tr>\n",
       "    <tr>\n",
       "      <th>75%</th>\n",
       "      <td>10.000000</td>\n",
       "      <td>4.150000</td>\n",
       "      <td>16204.000000</td>\n",
       "      <td>2011.000000</td>\n",
       "      <td>11.000000</td>\n",
       "      <td>4.000000</td>\n",
       "    </tr>\n",
       "    <tr>\n",
       "      <th>max</th>\n",
       "      <td>4300.000000</td>\n",
       "      <td>4575.640000</td>\n",
       "      <td>18287.000000</td>\n",
       "      <td>2011.000000</td>\n",
       "      <td>12.000000</td>\n",
       "      <td>4.000000</td>\n",
       "    </tr>\n",
       "  </tbody>\n",
       "</table>\n",
       "</div>"
      ],
      "text/plain": [
       "            Quantity      UnitPrice     CustomerID    InvoiceYear  \\\n",
       "count  491518.000000  491518.000000  491518.000000  491518.000000   \n",
       "mean        8.831613       4.456747   15172.796117    2010.919195   \n",
       "std        32.193907      33.951116    1482.678895       0.272535   \n",
       "min         1.000000       0.500000   12347.000000    2010.000000   \n",
       "25%         1.000000       1.450000   14407.000000    2011.000000   \n",
       "50%         3.000000       2.460000   14868.000000    2011.000000   \n",
       "75%        10.000000       4.150000   16204.000000    2011.000000   \n",
       "max      4300.000000    4575.640000   18287.000000    2011.000000   \n",
       "\n",
       "        InvoiceMonth  InvoiceQuarter  \n",
       "count  491518.000000   491518.000000  \n",
       "mean        7.525663        2.824222  \n",
       "std         3.523353        1.141084  \n",
       "min         1.000000        1.000000  \n",
       "25%         5.000000        2.000000  \n",
       "50%         8.000000        3.000000  \n",
       "75%        11.000000        4.000000  \n",
       "max        12.000000        4.000000  "
      ]
     },
     "execution_count": 13,
     "metadata": {},
     "output_type": "execute_result"
    }
   ],
   "source": [
    "# After Removing the outliers.\n",
    "df.describe()"
   ]
  },
  {
   "cell_type": "code",
   "execution_count": 14,
   "id": "324f6738",
   "metadata": {},
   "outputs": [],
   "source": [
    "# Constructing the 'TotalPrice' column from 'UnitPrice', 'Quantity' columns.\n",
    "df['TotalPrice'] = df['UnitPrice'] * df['Quantity']\n",
    "# Constructing the 'DayRecent' column from 'InvoiceDate' column to get the .\n",
    "df['DayRecent'] = (df['InvoiceDate'].max() - df['InvoiceDate']).dt.days\n",
    "# Removing the outliers from the 'TotalPrice' column.\n",
    "df = df[df.TotalPrice <= 5000]"
   ]
  },
  {
   "cell_type": "code",
   "execution_count": 15,
   "id": "135b912b",
   "metadata": {},
   "outputs": [
    {
     "data": {
      "text/html": [
       "<div>\n",
       "<style scoped>\n",
       "    .dataframe tbody tr th:only-of-type {\n",
       "        vertical-align: middle;\n",
       "    }\n",
       "\n",
       "    .dataframe tbody tr th {\n",
       "        vertical-align: top;\n",
       "    }\n",
       "\n",
       "    .dataframe thead th {\n",
       "        text-align: right;\n",
       "    }\n",
       "</style>\n",
       "<table border=\"1\" class=\"dataframe\">\n",
       "  <thead>\n",
       "    <tr style=\"text-align: right;\">\n",
       "      <th></th>\n",
       "      <th>Quantity</th>\n",
       "      <th>UnitPrice</th>\n",
       "      <th>CustomerID</th>\n",
       "      <th>InvoiceYear</th>\n",
       "      <th>InvoiceMonth</th>\n",
       "      <th>InvoiceQuarter</th>\n",
       "      <th>TotalPrice</th>\n",
       "      <th>DayRecent</th>\n",
       "    </tr>\n",
       "  </thead>\n",
       "  <tbody>\n",
       "    <tr>\n",
       "      <th>count</th>\n",
       "      <td>491512.000000</td>\n",
       "      <td>491512.000000</td>\n",
       "      <td>491512.000000</td>\n",
       "      <td>491512.000000</td>\n",
       "      <td>491512.000000</td>\n",
       "      <td>491512.000000</td>\n",
       "      <td>491512.000000</td>\n",
       "      <td>491512.000000</td>\n",
       "    </tr>\n",
       "    <tr>\n",
       "      <th>mean</th>\n",
       "      <td>8.809716</td>\n",
       "      <td>4.446991</td>\n",
       "      <td>15172.793484</td>\n",
       "      <td>2010.919194</td>\n",
       "      <td>7.525686</td>\n",
       "      <td>2.824228</td>\n",
       "      <td>20.883530</td>\n",
       "      <td>159.125179</td>\n",
       "    </tr>\n",
       "    <tr>\n",
       "      <th>std</th>\n",
       "      <td>31.202517</td>\n",
       "      <td>33.416975</td>\n",
       "      <td>1482.678929</td>\n",
       "      <td>0.272537</td>\n",
       "      <td>3.523352</td>\n",
       "      <td>1.141085</td>\n",
       "      <td>74.650013</td>\n",
       "      <td>116.234732</td>\n",
       "    </tr>\n",
       "    <tr>\n",
       "      <th>min</th>\n",
       "      <td>1.000000</td>\n",
       "      <td>0.500000</td>\n",
       "      <td>12347.000000</td>\n",
       "      <td>2010.000000</td>\n",
       "      <td>1.000000</td>\n",
       "      <td>1.000000</td>\n",
       "      <td>0.500000</td>\n",
       "      <td>0.000000</td>\n",
       "    </tr>\n",
       "    <tr>\n",
       "      <th>25%</th>\n",
       "      <td>1.000000</td>\n",
       "      <td>1.450000</td>\n",
       "      <td>14407.000000</td>\n",
       "      <td>2011.000000</td>\n",
       "      <td>5.000000</td>\n",
       "      <td>2.000000</td>\n",
       "      <td>4.130000</td>\n",
       "      <td>51.000000</td>\n",
       "    </tr>\n",
       "    <tr>\n",
       "      <th>50%</th>\n",
       "      <td>3.000000</td>\n",
       "      <td>2.460000</td>\n",
       "      <td>14868.000000</td>\n",
       "      <td>2011.000000</td>\n",
       "      <td>8.000000</td>\n",
       "      <td>3.000000</td>\n",
       "      <td>10.140000</td>\n",
       "      <td>144.000000</td>\n",
       "    </tr>\n",
       "    <tr>\n",
       "      <th>75%</th>\n",
       "      <td>10.000000</td>\n",
       "      <td>4.150000</td>\n",
       "      <td>16204.000000</td>\n",
       "      <td>2011.000000</td>\n",
       "      <td>11.000000</td>\n",
       "      <td>4.000000</td>\n",
       "      <td>17.700000</td>\n",
       "      <td>259.000000</td>\n",
       "    </tr>\n",
       "    <tr>\n",
       "      <th>max</th>\n",
       "      <td>4300.000000</td>\n",
       "      <td>4575.640000</td>\n",
       "      <td>18287.000000</td>\n",
       "      <td>2011.000000</td>\n",
       "      <td>12.000000</td>\n",
       "      <td>4.000000</td>\n",
       "      <td>4992.000000</td>\n",
       "      <td>373.000000</td>\n",
       "    </tr>\n",
       "  </tbody>\n",
       "</table>\n",
       "</div>"
      ],
      "text/plain": [
       "            Quantity      UnitPrice     CustomerID    InvoiceYear  \\\n",
       "count  491512.000000  491512.000000  491512.000000  491512.000000   \n",
       "mean        8.809716       4.446991   15172.793484    2010.919194   \n",
       "std        31.202517      33.416975    1482.678929       0.272537   \n",
       "min         1.000000       0.500000   12347.000000    2010.000000   \n",
       "25%         1.000000       1.450000   14407.000000    2011.000000   \n",
       "50%         3.000000       2.460000   14868.000000    2011.000000   \n",
       "75%        10.000000       4.150000   16204.000000    2011.000000   \n",
       "max      4300.000000    4575.640000   18287.000000    2011.000000   \n",
       "\n",
       "        InvoiceMonth  InvoiceQuarter     TotalPrice      DayRecent  \n",
       "count  491512.000000   491512.000000  491512.000000  491512.000000  \n",
       "mean        7.525686        2.824228      20.883530     159.125179  \n",
       "std         3.523352        1.141085      74.650013     116.234732  \n",
       "min         1.000000        1.000000       0.500000       0.000000  \n",
       "25%         5.000000        2.000000       4.130000      51.000000  \n",
       "50%         8.000000        3.000000      10.140000     144.000000  \n",
       "75%        11.000000        4.000000      17.700000     259.000000  \n",
       "max        12.000000        4.000000    4992.000000     373.000000  "
      ]
     },
     "execution_count": 15,
     "metadata": {},
     "output_type": "execute_result"
    }
   ],
   "source": [
    "df.describe()"
   ]
  },
  {
   "cell_type": "markdown",
   "id": "db4dc1d5",
   "metadata": {},
   "source": [
    "## Data Analysis"
   ]
  },
  {
   "cell_type": "markdown",
   "id": "4f9c2013",
   "metadata": {},
   "source": [
    "- What is the quarter that has the most Total Price?"
   ]
  },
  {
   "cell_type": "code",
   "execution_count": 18,
   "id": "40fe9587",
   "metadata": {},
   "outputs": [
    {
     "data": {
      "text/plain": [
       "InvoiceQuarter\n",
       "4    3911739\n",
       "3    2504460\n",
       "2    2011816\n",
       "1    1836488\n",
       "Name: TotalPrice, dtype: int32"
      ]
     },
     "execution_count": 18,
     "metadata": {},
     "output_type": "execute_result"
    }
   ],
   "source": [
    "# Grouping Each Quarter by its sum of orice.\n",
    "q_price = df.groupby('InvoiceQuarter')['TotalPrice'].sum().sort_values(ascending = False).astype(int)\n",
    "q_price"
   ]
  },
  {
   "cell_type": "code",
   "execution_count": 19,
   "id": "e9aec74c",
   "metadata": {},
   "outputs": [
    {
     "data": {
      "image/png": "[encoded data removed]",
      "text/plain": [
       "<Figure size 864x432 with 1 Axes>"
      ]
     },
     "metadata": {},
     "output_type": "display_data"
    }
   ],
   "source": [
    "# Plotting the result\n",
    "q_price.plot(kind = \"pie\", colors = sns.color_palette(\"Blues_r\"), figsize = (12, 6), title = \"Total Price Per Quarter\");"
   ]
  },
  {
   "cell_type": "markdown",
   "id": "202a2efd",
   "metadata": {},
   "source": [
    "- As we see the quarters in the end of the year have more total price than in the first half of the year."
   ]
  },
  {
   "cell_type": "markdown",
   "id": "4e259d53",
   "metadata": {},
   "source": [
    "- Which year have the most Invoices in our data?"
   ]
  },
  {
   "cell_type": "code",
   "execution_count": 19,
   "id": "9013536b",
   "metadata": {},
   "outputs": [
    {
     "data": {
      "image/png": "[encoded data removed]",
      "text/plain": [
       "<Figure size 720x432 with 1 Axes>"
      ]
     },
     "metadata": {},
     "output_type": "display_data"
    }
   ],
   "source": [
    "# Plotting each year percenrage in the data to get the difference.\n",
    "year_pct = df['InvoiceYear'].value_counts(normalize = True)\n",
    "year_pct.plot(\n",
    "    kind = \"pie\", \n",
    "    autopct = \"%.2f\", \n",
    "    figsize = (10, 6),\n",
    "    title = \"Each Year PCT [%]\"\n",
    ");"
   ]
  },
  {
   "cell_type": "code",
   "execution_count": 20,
   "id": "c68714c1",
   "metadata": {},
   "outputs": [
    {
     "data": {
      "text/html": [
       "<div>\n",
       "<style scoped>\n",
       "    .dataframe tbody tr th:only-of-type {\n",
       "        vertical-align: middle;\n",
       "    }\n",
       "\n",
       "    .dataframe tbody tr th {\n",
       "        vertical-align: top;\n",
       "    }\n",
       "\n",
       "    .dataframe thead th {\n",
       "        text-align: right;\n",
       "    }\n",
       "</style>\n",
       "<table border=\"1\" class=\"dataframe\">\n",
       "  <thead>\n",
       "    <tr style=\"text-align: right;\">\n",
       "      <th></th>\n",
       "      <th>Count</th>\n",
       "      <th>TotalPrice</th>\n",
       "    </tr>\n",
       "    <tr>\n",
       "      <th>InvoiceDay</th>\n",
       "      <th></th>\n",
       "      <th></th>\n",
       "    </tr>\n",
       "  </thead>\n",
       "  <tbody>\n",
       "    <tr>\n",
       "      <th>Thursday</th>\n",
       "      <td>94164</td>\n",
       "      <td>2179607.97</td>\n",
       "    </tr>\n",
       "    <tr>\n",
       "      <th>Tuesday</th>\n",
       "      <td>93060</td>\n",
       "      <td>2045997.42</td>\n",
       "    </tr>\n",
       "    <tr>\n",
       "      <th>Wednesday</th>\n",
       "      <td>85500</td>\n",
       "      <td>1836403.24</td>\n",
       "    </tr>\n",
       "    <tr>\n",
       "      <th>Monday</th>\n",
       "      <td>87210</td>\n",
       "      <td>1817307.90</td>\n",
       "    </tr>\n",
       "    <tr>\n",
       "      <th>Friday</th>\n",
       "      <td>74981</td>\n",
       "      <td>1609984.23</td>\n",
       "    </tr>\n",
       "    <tr>\n",
       "      <th>Sunday</th>\n",
       "      <td>56597</td>\n",
       "      <td>775204.67</td>\n",
       "    </tr>\n",
       "  </tbody>\n",
       "</table>\n",
       "</div>"
      ],
      "text/plain": [
       "            Count  TotalPrice\n",
       "InvoiceDay                   \n",
       "Thursday    94164  2179607.97\n",
       "Tuesday     93060  2045997.42\n",
       "Wednesday   85500  1836403.24\n",
       "Monday      87210  1817307.90\n",
       "Friday      74981  1609984.23\n",
       "Sunday      56597   775204.67"
      ]
     },
     "execution_count": 20,
     "metadata": {},
     "output_type": "execute_result"
    }
   ],
   "source": [
    "# Grouping each day \n",
    "day_mprofit = df.groupby('InvoiceDay').agg({\"InvoiceDay\": \"count\", \"TotalPrice\": \"sum\"}).sort_values(ascending = False,\n",
    "                                                                                                     by = \"TotalPrice\")\n",
    "day_mprofit.columns = [\"Count\", \"TotalPrice\"]\n",
    "day_mprofit"
   ]
  },
  {
   "cell_type": "code",
   "execution_count": 21,
   "id": "c57c761a",
   "metadata": {},
   "outputs": [
    {
     "data": {
      "image/png": "[encoded data removed]",
      "text/plain": [
       "<Figure size 720x360 with 1 Axes>"
      ]
     },
     "metadata": {
      "needs_background": "light"
     },
     "output_type": "display_data"
    }
   ],
   "source": [
    "# bar plot to illustrate the difference.\n",
    "day_mprofit['TotalPrice'].plot(\n",
    "    kind = \"bar\", \n",
    "    color = sns.color_palette(\"Reds_r\"), \n",
    "    figsize = (10, 5), \n",
    "    title = \"Total Price per day\"\n",
    ");"
   ]
  },
  {
   "cell_type": "markdown",
   "id": "77f16619",
   "metadata": {},
   "source": [
    "- What is the country that have the biggest TotalPrice from this transactions?"
   ]
  },
  {
   "cell_type": "code",
   "execution_count": 22,
   "id": "172a95f9",
   "metadata": {},
   "outputs": [
    {
     "data": {
      "text/plain": [
       "Country\n",
       "United Kingdom    8616087.84\n",
       "EIRE               292336.25\n",
       "Netherlands        273089.94\n",
       "Germany            228206.93\n",
       "France             206984.23\n",
       "Name: TotalPrice, dtype: float64"
      ]
     },
     "execution_count": 22,
     "metadata": {},
     "output_type": "execute_result"
    }
   ],
   "source": [
    "# Grouping Each country by its sum prie.\n",
    "country_tp = df.groupby(\"Country\")['TotalPrice'].sum().sort_values(ascending = False)\n",
    "country_tp.head()"
   ]
  },
  {
   "cell_type": "markdown",
   "id": "791f7ac2",
   "metadata": {},
   "source": [
    "- We can see the united kingdom has the biggest number of transactions in our data by far."
   ]
  },
  {
   "cell_type": "markdown",
   "id": "0d0b5c4a",
   "metadata": {},
   "source": [
    "- What is the biggest stock that are spent on in UK?"
   ]
  },
  {
   "cell_type": "code",
   "execution_count": 23,
   "id": "43ecb343",
   "metadata": {},
   "outputs": [
    {
     "data": {
      "text/html": [
       "<div>\n",
       "<style scoped>\n",
       "    .dataframe tbody tr th:only-of-type {\n",
       "        vertical-align: middle;\n",
       "    }\n",
       "\n",
       "    .dataframe tbody tr th {\n",
       "        vertical-align: top;\n",
       "    }\n",
       "\n",
       "    .dataframe thead th {\n",
       "        text-align: right;\n",
       "    }\n",
       "</style>\n",
       "<table border=\"1\" class=\"dataframe\">\n",
       "  <thead>\n",
       "    <tr style=\"text-align: right;\">\n",
       "      <th></th>\n",
       "      <th></th>\n",
       "      <th>TotalPrice</th>\n",
       "    </tr>\n",
       "    <tr>\n",
       "      <th>StockCode</th>\n",
       "      <th>Description</th>\n",
       "      <th></th>\n",
       "    </tr>\n",
       "  </thead>\n",
       "  <tbody>\n",
       "    <tr>\n",
       "      <th>DOT</th>\n",
       "      <th>DOTCOM POSTAGE</th>\n",
       "      <td>206251.71</td>\n",
       "    </tr>\n",
       "    <tr>\n",
       "      <th>22423</th>\n",
       "      <th>REGENCY CAKESTAND 3 TIER</th>\n",
       "      <td>149837.94</td>\n",
       "    </tr>\n",
       "    <tr>\n",
       "      <th>85123A</th>\n",
       "      <th>WHITE HANGING HEART T-LIGHT HOLDER</th>\n",
       "      <td>105036.79</td>\n",
       "    </tr>\n",
       "    <tr>\n",
       "      <th>47566</th>\n",
       "      <th>PARTY BUNTING</th>\n",
       "      <td>94756.23</td>\n",
       "    </tr>\n",
       "    <tr>\n",
       "      <th>85099B</th>\n",
       "      <th>JUMBO BAG RED RETROSPOT</th>\n",
       "      <td>88246.00</td>\n",
       "    </tr>\n",
       "  </tbody>\n",
       "</table>\n",
       "</div>"
      ],
      "text/plain": [
       "                                              TotalPrice\n",
       "StockCode Description                                   \n",
       "DOT       DOTCOM POSTAGE                       206251.71\n",
       "22423     REGENCY CAKESTAND 3 TIER             149837.94\n",
       "85123A    WHITE HANGING HEART T-LIGHT HOLDER   105036.79\n",
       "47566     PARTY BUNTING                         94756.23\n",
       "85099B    JUMBO BAG RED RETROSPOT               88246.00"
      ]
     },
     "execution_count": 23,
     "metadata": {},
     "output_type": "execute_result"
    }
   ],
   "source": [
    "# making a data frame for the data of 'United Kingdom'.\n",
    "uk_df = df[df['Country'] == \"United Kingdom\"]\n",
    "\n",
    "# Grouping the stocks with its description by its total price to get which stocks are the biggest in UK. \n",
    "# And sorting it to get the biggest on top.\n",
    "stock_price = uk_df.groupby([\"StockCode\", \"Description\"])['TotalPrice'].sum().sort_values(ascending = False).to_frame()\n",
    "\n",
    "# Plotting the first five rows (The highest).\n",
    "stock_price.head()"
   ]
  },
  {
   "cell_type": "markdown",
   "id": "03902add",
   "metadata": {},
   "source": [
    "## ML Model - KMeans Clustering "
   ]
  },
  {
   "cell_type": "code",
   "execution_count": 20,
   "id": "0ca6c3aa",
   "metadata": {},
   "outputs": [
    {
     "data": {
      "text/plain": [
       "(491512, 3)"
      ]
     },
     "execution_count": 20,
     "metadata": {},
     "output_type": "execute_result"
    }
   ],
   "source": [
    "# Extracting the feature matrix from the dataframe\n",
    "X = df[['CustomerID', 'TotalPrice', 'DayRecent', 'InvoiceMonth']].set_index(\"CustomerID\")\n",
    "\n",
    "# Showing the Shape of the feature matrix.\n",
    "X.shape"
   ]
  },
  {
   "cell_type": "markdown",
   "id": "572605e2",
   "metadata": {},
   "source": [
    "- Implementing Elbow method to figure out what is the best number of clusters."
   ]
  },
  {
   "cell_type": "code",
   "execution_count": 25,
   "id": "98313d6a",
   "metadata": {},
   "outputs": [
    {
     "data": {
      "image/png": "[encoded data removed]",
      "text/plain": [
       "<Figure size 432x288 with 1 Axes>"
      ]
     },
     "metadata": {
      "needs_background": "light"
     },
     "output_type": "display_data"
    }
   ],
   "source": [
    "# Making an empty list to get the different inertias that results from different number of clusters.\n",
    "inertia = []\n",
    "\n",
    "#Looping over a range of cluster numbers and getting their inertia\n",
    "for k in range(1, 11):   \n",
    "    # Inasializing the model.\n",
    "    kmeans = KMeans(n_clusters = k)\n",
    "    \n",
    "    # Training the model.\n",
    "    kmeans.fit(X)\n",
    "    \n",
    "    # Calculating the inetia for the model of each k and appending it to the lis of inertias.\n",
    "    inertia.append(kmeans.inertia_)\n",
    "\n",
    "# Plotting thr result of inertias to get the best number of clusters.\n",
    "plt.plot(range(1, 11), inertia)\n",
    "plt.title('The Elbow Method')\n",
    "plt.xlabel('Number of clusters')\n",
    "plt.ylabel('inertia')\n",
    "plt.show()"
   ]
  },
  {
   "cell_type": "markdown",
   "id": "314a1f67",
   "metadata": {},
   "source": [
    "- As we can see that the convergence happend on the k = 3 point so it's resonable to choose 3 as number of clusters."
   ]
  },
  {
   "cell_type": "code",
   "execution_count": 21,
   "id": "f850a339",
   "metadata": {},
   "outputs": [],
   "source": [
    "# initializing the 'kmeans' model with number of clusters = 3.\n",
    "kmeans = KMeans(n_clusters = 3)\n",
    "\n",
    "# Fitting the model to the feature matrix.\n",
    "# labeling each row with its cluster number in a new column 'cluster'.\n",
    "X['cluster'] = kmeans.fit_predict(X)"
   ]
  },
  {
   "cell_type": "markdown",
   "id": "a755d9f1",
   "metadata": {},
   "source": [
    "### Illustrating the cluster on a scatter plot to show the difference between them."
   ]
  },
  {
   "cell_type": "code",
   "execution_count": 22,
   "id": "927d02b4",
   "metadata": {},
   "outputs": [
    {
     "data": {
      "image/png": "[encoded data removed]",
      "text/plain": [
       "<Figure size 864x432 with 1 Axes>"
      ]
     },
     "metadata": {
      "needs_background": "light"
     },
     "output_type": "display_data"
    }
   ],
   "source": [
    "# Determining the figure size\n",
    "plt.figure(figsize=(12, 6))\n",
    "\n",
    "# Plotting each cluster points on the same graph with different colors.\n",
    "plt.scatter(X.values[X['cluster'] == 0, 0], X.values[X['cluster'] == 0, 1], s = 100, c = \"#6f8cc3\", label = 'Cluster 1')\n",
    "plt.scatter(X.values[X['cluster'] == 1, 0], X.values[X['cluster'] == 1, 1], s = 100, c = \"#bc9a76\", label = 'Cluster 2')\n",
    "plt.scatter(X.values[X['cluster'] == 2, 0], X.values[X['cluster'] == 2, 1], s = 100, c = \"#e05238\", label = 'Cluster 3')\n",
    "\n",
    "# Plotting each cluster center with another shape (Star) than its cluster points on the same graph.\n",
    "plt.scatter(kmeans.cluster_centers_[:, 0], kmeans.cluster_centers_[:, 1], s = 300, c = 'yellow', label = 'Centroids', marker = '*')\n",
    "\n",
    "# Specifing the legend and axes labels on the graph.\n",
    "plt.legend()\n",
    "plt.xlabel('Total Price')\n",
    "plt.ylabel('DayRecent')\n",
    "plt.title('Scatterplot For clusters with Cluster Centers (DayRecent & Total Price)');"
   ]
  },
  {
   "cell_type": "code",
   "execution_count": 24,
   "id": "00389a6c",
   "metadata": {},
   "outputs": [
    {
     "data": {
      "image/png": "[encoded data removed]",
      "text/plain": [
       "<Figure size 864x432 with 1 Axes>"
      ]
     },
     "metadata": {
      "needs_background": "light"
     },
     "output_type": "display_data"
    }
   ],
   "source": [
    "# Determining the figure size\n",
    "plt.figure(figsize=(12, 6))\n",
    "\n",
    "# Plotting each cluster points on the same graph with different colors from the hue argument.\n",
    "sns.scatterplot(x = X.iloc[:, 0], y = X.iloc[:, 2], hue = X['cluster'], s = 100)\n",
    "\n",
    "# Plotting each cluster center with another shape (Star) than its cluster points on the same graph.\n",
    "sns.scatterplot(x = kmeans.cluster_centers_[:, 0], y = kmeans.cluster_centers_[:, 2], s = 500, marker = '*', color = 'orange')\n",
    "\n",
    "\n",
    "# Specifing the title and axes labels on the graph.\n",
    "plt.xlabel('Total Price')\n",
    "plt.ylabel('Month')\n",
    "plt.title('Scatterplot For clusters with Cluster Centers (Month & Total Price)');"
   ]
  },
  {
   "cell_type": "markdown",
   "id": "68cf0e17",
   "metadata": {},
   "source": [
    "- What is the total price for each cluster?"
   ]
  },
  {
   "cell_type": "code",
   "execution_count": 30,
   "id": "0a298635",
   "metadata": {},
   "outputs": [
    {
     "data": {
      "text/plain": [
       "cluster\n",
       "0    5242850.71\n",
       "1    4017731.12\n",
       "2    1003923.60\n",
       "Name: TotalPrice, dtype: float64"
      ]
     },
     "execution_count": 30,
     "metadata": {},
     "output_type": "execute_result"
    }
   ],
   "source": [
    "# Grouping each cluster by the sum of its price.\n",
    "cluster_total = X.groupby(\"cluster\")['TotalPrice'].sum().sort_values(ascending = False)\n",
    "cluster_total"
   ]
  },
  {
   "cell_type": "markdown",
   "id": "be056c98",
   "metadata": {},
   "source": [
    "- The sum of total price for each cluster."
   ]
  },
  {
   "cell_type": "code",
   "execution_count": 31,
   "id": "00228c54",
   "metadata": {},
   "outputs": [
    {
     "data": {
      "image/png": "[encoded data removed]",
      "text/plain": [
       "<Figure size 1200x600 with 1 Axes>"
      ]
     },
     "metadata": {},
     "output_type": "display_data"
    }
   ],
   "source": [
    "# Plotting a pie Chart to illustrate the diggerence between clusters.\n",
    "cluster_total.plot.pie(colors = sns.color_palette(\"plasma_r\"), figsize = (12, 6));"
   ]
  },
  {
   "cell_type": "markdown",
   "id": "03f9601c",
   "metadata": {},
   "source": [
    "- Cluster 1 has the biggest Sum of Price and Cluster 0 comes right after it."
   ]
  },
  {
   "cell_type": "code",
   "execution_count": null,
   "id": "3d09e5a2",
   "metadata": {},
   "outputs": [],
   "source": []
  }
 ],
 "metadata": {
  "kernelspec": {
   "display_name": "Python 3 (ipykernel)",
   "language": "python",
   "name": "python3"
  },
  "language_info": {
   "codemirror_mode": {
    "name": "ipython",
    "version": 3
   },
   "file_extension": ".py",
   "mimetype": "text/x-python",
   "name": "python",
   "nbconvert_exporter": "python",
   "pygments_lexer": "ipython3",
   "version": "3.9.12"
  }
 },
 "nbformat": 4,
 "nbformat_minor": 5
}
